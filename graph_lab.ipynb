{
 "cells": [
  {
   "cell_type": "markdown",
   "id": "2d65a8a5-860e-41d8-ac27-fabb65da8243",
   "metadata": {},
   "source": [
    "# Graph Lab"
   ]
  },
  {
   "cell_type": "markdown",
   "id": "0287692e-0294-4c54-8ad3-c8d8425ab85c",
   "metadata": {},
   "source": [
    "## Header information:\n",
    "\n",
    "  - Author #1: Maged Armanios (armanm5@mcmaster.ca)\n",
    "  - Author #2: Jinal Sanjula Kasturiarachchi (Katsurij@mcmaster.ca)\n",
    "  - Gitlab URL: https://gitlab.cas.mcmaster.ca/sfwreng-3xb3-fall-22/l1-graph-lab\n",
    "  - Avenue to Learn group name: Group 32"
   ]
  },
  {
   "cell_type": "markdown",
   "id": "ff014d9f",
   "metadata": {},
   "source": [
    "# Week 1: Manipulating"
   ]
  },
  {
   "cell_type": "markdown",
   "id": "841b9c27",
   "metadata": {
    "slideshow": {
     "slide_type": "slide"
    }
   },
   "source": [
    "In week 1, we were tasked with designing an object oriented model for reading and storing data from CSV files. These files contained data regarding the London subway system. Specifically, one file contained information about the stations, one file contained information about the connections and another contained information about the lines."
   ]
  },
  {
   "cell_type": "code",
   "execution_count": 1,
   "id": "d930eca9-bac7-44ed-b626-037b948c8a9b",
   "metadata": {},
   "outputs": [],
   "source": [
    "import sys\n",
    "from solution.graph import Graph, Node\n",
    "from solution.metricsExtraction import MetricsExtractor\n",
    "from solution.shortestPath import PathFactory\n",
    "from solution.buildGraph import GraphBuilder\n",
    "from matplotlib import pyplot as plt\n"
   ]
  },
  {
   "cell_type": "code",
   "execution_count": 2,
   "id": "542fff6c",
   "metadata": {},
   "outputs": [],
   "source": [
    "pathToStations = \"_dataset/london.stations.csv\"\n",
    "pathToConnections = \"_dataset/london.connections.csv\""
   ]
  },
  {
   "cell_type": "code",
   "execution_count": 3,
   "id": "775917d7",
   "metadata": {
    "slideshow": {
     "slide_type": "fragment"
    }
   },
   "outputs": [],
   "source": [
    "g = GraphBuilder.build(pathToStations,pathToConnections)\n"
   ]
  },
  {
   "cell_type": "markdown",
   "id": "c3f3b4da",
   "metadata": {},
   "source": [
    "The class GraphBuilder containts the method buildGraph() with two parameters pertaining to the paths of the stations and connections files. This approach to building the graph enables us to add more methods to the class in the case that the CSV file format changes. This makes the graph class indepedant from the graph"
   ]
  },
  {
   "cell_type": "code",
   "execution_count": 5,
   "id": "2ad15130",
   "metadata": {},
   "outputs": [
    {
     "data": {
      "image/png": "[encoded data removed]",
      "text/plain": [
       "<Figure size 640x480 with 1 Axes>"
      ]
     },
     "metadata": {},
     "output_type": "display_data"
    }
   ],
   "source": [
    "degrees = MetricsExtractor.compute_sum_of_degrees(g.graph)\n",
    "plt.bar(*zip(*degrees.items()))\n",
    "plt.title(\"Occurance of degrees\")\n",
    "plt.xlabel(\"Degree\")\n",
    "plt.ylabel(\"Occurance\")\n",
    "plt.show()"
   ]
  },
  {
   "cell_type": "markdown",
   "id": "71afc81d",
   "metadata": {},
   "source": [
    "Metrics extractor computes different metrics about the graph using various functions. The graph above above shows the occurance of each degree in the graph. It is clear that on average, most stations connect to only two other stations."
   ]
  },
  {
   "cell_type": "code",
   "execution_count": 6,
   "id": "f5428741",
   "metadata": {},
   "outputs": [
    {
     "name": "stdout",
     "output_type": "stream",
     "text": [
      "Computed with djikstra's algorithm\n",
      "Go from 11 to 193 in 6.0 stops using line 1\n",
      "Go from 193 to 283 in 3.0 stops using line 6\n",
      "\n",
      "Computed with a* algorithm\n",
      "Go from 11 to 193 in 6.0 stops using line 1\n",
      "Go from 193 to 283 in 3.0 stops using line 6\n"
     ]
    }
   ],
   "source": [
    "print(\"Computed with djikstra's algorithm\")\n",
    "pathA = PathFactory.dijkstra(g,11,283)\n",
    "pathA.printPath()\n",
    "print(\"\\nComputed with a* algorithm\")\n",
    "pathB = PathFactory.a_star(g,11,283)\n",
    "pathB.printPath() "
   ]
  },
  {
   "cell_type": "markdown",
   "id": "d35b6b63",
   "metadata": {},
   "source": [
    "Going from station 11 (Baker Street) to 283 (Westbourne Park) can be done in a total of 9 stops and 2 lines"
   ]
  },
  {
   "attachments": {},
   "cell_type": "markdown",
   "id": "501a12b3",
   "metadata": {},
   "source": [
    "### Design Choices\n"
   ]
  },
  {
   "cell_type": "markdown",
   "id": "0538bc9f",
   "metadata": {},
   "source": [
    "### Explanation of Each Class\n",
    "#### GraphBuilder\n",
    "Seperating GraphBuilder from all other classes was key to ensuring the design is scalable. Now, the graph class is completely independant from the format of the CSV file and if the CSV file is to change we can simply add another method to GraphBuilder that can read it. In summary GraphBuilder enables Graph to be independant of the CSV files and can be adjusted in an open-closed manner.\n",
    "#### Node\n",
    "The Node class is what represents the subway stations. It containts all information with the exception of some columns about the zone and rail as they weren't used. Representing each station as an object does use more memory, but enables us to encapsulate the information easily and makes the data at each station easily accessable.\n",
    "#### Graph\n",
    "Graph uses nodes to represent the entire subway system in one class. It possess a graph attribute which contains a dictionary (Map) of every station. We used a map instead of an array so that we can accomodate any stationID. Graph also possess the ability to add stations (Nodes) and connections (vertices)\n",
    "#### MetricsCalculator\n",
    "MetricsCalculator seperates the functionality of pulling information from the graph from Graph. Each desired function is a public function that can be called as long as a graph is passed in. Additionally, it enables us to create more functions to compute metrics in an open-closed principle without overloading the GraphClass. \n",
    "#### PathFactory\n",
    "PatchFactory is a class that contains all algorithms used for generating itineraries. As of now it contains a method for computing path using Djikstras and the A* algorithm. If any further functions were to be added to the library they can be appended to PathFactory without modifying any other algorithms. \n",
    "#### Itinerary\n",
    "The itinerary class holds all relevant information about a path from one place to another. It is generated by the different methods of PathFactory. It can display the path from one station to another and removes redudant information like every stop on the line a user would take. "
   ]
  },
  {
   "cell_type": "markdown",
   "id": "c3d4ab43",
   "metadata": {},
   "source": [
    "### Benchmarking the Solution\n",
    "\n",
    "#### Building The graph\n",
    "\n",
    "#### Shortest Path (Djikstra)\n",
    "\n",
    "#### Shortest Path (A*)"
   ]
  },
  {
   "cell_type": "markdown",
   "id": "584fc33c",
   "metadata": {},
   "source": [
    "### Division of Work\n",
    "#### Jinal\n",
    "#### Maged\n"
   ]
  },
  {
   "cell_type": "code",
   "execution_count": null,
   "id": "982612f9",
   "metadata": {},
   "outputs": [],
   "source": []
  }
 ],
 "metadata": {
  "kernelspec": {
   "display_name": "Python 3 (ipykernel)",
   "language": "python",
   "name": "python3"
  },
  "language_info": {
   "codemirror_mode": {
    "name": "ipython",
    "version": 3
   },
   "file_extension": ".py",
   "mimetype": "text/x-python",
   "name": "python",
   "nbconvert_exporter": "python",
   "pygments_lexer": "ipython3",
   "version": "3.8.7"
  },
  "vscode": {
   "interpreter": {
    "hash": "5008250e8a37397e79f7e0827d4c908cd93d6034bede0aa4308a94c1b0c32bff"
   }
  }
 },
 "nbformat": 4,
 "nbformat_minor": 5
}
